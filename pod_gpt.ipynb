{
  "cells": [
    {
      "cell_type": "markdown",
      "metadata": {
        "id": "view-in-github",
        "colab_type": "text"
      },
      "source": [
        "<a href=\"https://colab.research.google.com/github/eeshashetty/podgpt/blob/main/pod_gpt.ipynb\" target=\"_parent\"><img src=\"https://colab.research.google.com/assets/colab-badge.svg\" alt=\"Open In Colab\"/></a>"
      ]
    },
    {
      "cell_type": "code",
      "source": [
        "# Mount Drive (to save checkpoints + generated texts)\n",
        "from google.colab import drive\n",
        "drive.mount('/content/drive')"
      ],
      "metadata": {
        "colab": {
          "base_uri": "https://localhost:8080/"
        },
        "id": "WKHjxk22Gll8",
        "outputId": "9ac60668-3c0f-4783-9454-ed191d69317f"
      },
      "execution_count": null,
      "outputs": [
        {
          "output_type": "stream",
          "name": "stdout",
          "text": [
            "Mounted at /content/drive\n"
          ]
        }
      ]
    },
    {
      "cell_type": "code",
      "execution_count": null,
      "metadata": {
        "colab": {
          "base_uri": "https://localhost:8080/"
        },
        "id": "E61LkxKudOWq",
        "outputId": "cb9e5fd8-4eda-4f77-905f-162eb2aeaaea"
      },
      "outputs": [
        {
          "output_type": "stream",
          "name": "stdout",
          "text": [
            "Thu Mar 30 20:55:59 2023       \n",
            "+-----------------------------------------------------------------------------+\n",
            "| NVIDIA-SMI 525.85.12    Driver Version: 525.85.12    CUDA Version: 12.0     |\n",
            "|-------------------------------+----------------------+----------------------+\n",
            "| GPU  Name        Persistence-M| Bus-Id        Disp.A | Volatile Uncorr. ECC |\n",
            "| Fan  Temp  Perf  Pwr:Usage/Cap|         Memory-Usage | GPU-Util  Compute M. |\n",
            "|                               |                      |               MIG M. |\n",
            "|===============================+======================+======================|\n",
            "|   0  Tesla T4            Off  | 00000000:00:04.0 Off |                    0 |\n",
            "| N/A   77C    P8    12W /  70W |      0MiB / 15360MiB |      0%      Default |\n",
            "|                               |                      |                  N/A |\n",
            "+-------------------------------+----------------------+----------------------+\n",
            "                                                                               \n",
            "+-----------------------------------------------------------------------------+\n",
            "| Processes:                                                                  |\n",
            "|  GPU   GI   CI        PID   Type   Process name                  GPU Memory |\n",
            "|        ID   ID                                                   Usage      |\n",
            "|=============================================================================|\n",
            "|  No running processes found                                                 |\n",
            "+-----------------------------------------------------------------------------+\n"
          ]
        }
      ],
      "source": [
        "!nvidia-smi"
      ]
    },
    {
      "cell_type": "code",
      "execution_count": null,
      "metadata": {
        "id": "d9Y-03-wdTjx"
      },
      "outputs": [],
      "source": [
        "# Install GPT2 Simple Model package - https://github.com/minimaxir/gpt-2-simple\n",
        "!pip install -q gpt-2-simple\n",
        "import gpt_2_simple as gpt2\n",
        "from datetime import datetime\n",
        "\n",
        "# Scraping\n",
        "import requests\n",
        "from bs4 import BeautifulSoup\n",
        "import pandas as pd\n",
        "from tqdm import tqdm"
      ]
    },
    {
      "cell_type": "markdown",
      "source": [
        "## Part 1 - Scraping"
      ],
      "metadata": {
        "id": "0ZYQzMGfn1r8"
      }
    },
    {
      "cell_type": "code",
      "execution_count": null,
      "metadata": {
        "colab": {
          "base_uri": "https://localhost:8080/"
        },
        "id": "ychQOzJSkFzH",
        "outputId": "be55148a-4b3b-4c6b-9813-c64e044a3e5d"
      },
      "outputs": [
        {
          "data": {
            "text/plain": [
              "28"
            ]
          },
          "execution_count": 67,
          "metadata": {},
          "output_type": "execute_result"
        }
      ],
      "source": [
        "# Scraping specifically for happyscribe\n",
        "\n",
        "root = \"https://www.happyscribe.com\"\n",
        "pages = [\"https://www.happyscribe.com/public/freakonomics-radio\", \"https://www.happyscribe.com/public/freakonomics-radio?page=2\"]\n",
        "links = []\n",
        "for page in pages:\n",
        "  res = requests.get(page)\n",
        "  soup = BeautifulSoup(res.content, 'html.parser')\n",
        "  \n",
        "  for d in soup.select('a.hsp-card-episode'):\n",
        "    links.append(root + d[\"href\"])\n",
        "\n",
        "len(links)"
      ]
    },
    {
      "cell_type": "code",
      "execution_count": null,
      "metadata": {
        "id": "zaybqp4MiW-m"
      },
      "outputs": [],
      "source": [
        "def get_transcript(link):\n",
        "  res = requests.get(link)\n",
        "  soup = BeautifulSoup(res.content, 'html.parser')\n",
        "  txt = \"<|startoftext|>\"\n",
        "  for para in soup.select('div.hsp-paragraph'):\n",
        "    txt += para.text[11:].strip() + \"\\n\"\n",
        "  txt += \"<|endoftext|>\"\n",
        "  return txt"
      ]
    },
    {
      "cell_type": "code",
      "execution_count": null,
      "metadata": {
        "colab": {
          "base_uri": "https://localhost:8080/"
        },
        "id": "BrShtAgjjVIQ",
        "outputId": "f746285a-2c09-4337-c1ba-c50691a05ad6"
      },
      "outputs": [
        {
          "name": "stderr",
          "output_type": "stream",
          "text": [
            "100%|██████████| 28/28 [00:34<00:00,  1.23s/it]\n"
          ]
        }
      ],
      "source": [
        "transcripts = []\n",
        "for link in tqdm(links):\n",
        "  transcripts.append(get_transcript(link))\n",
        "\n",
        "with open(\"/content/drive/MyDrive/Spring 2023/10-615 Art/dataset_freakonomics.txt\", \"w\") as f:\n",
        "  f.writelines(transcript)"
      ]
    },
    {
      "cell_type": "markdown",
      "source": [
        "## Part 2 - Finetuning"
      ],
      "metadata": {
        "id": "BqVMDpz2oAxa"
      }
    },
    {
      "cell_type": "code",
      "execution_count": null,
      "metadata": {
        "id": "mftYoVrPnXm2"
      },
      "outputs": [],
      "source": [
        "# Setup Config for Fine Tuning\n",
        "config = {\n",
        "    \"model\": \"124M\", # choose which GPT2 model to finetune on\n",
        "    \"steps\": 1000, # number of epochs\n",
        "    \"run_name\": \"run-3-1000\", # specify run name for different runs\n",
        "    \"print_every\": 100, \n",
        "    \"sample_every\": 200,\n",
        "    \"save_every\": 300\n",
        "}"
      ]
    },
    {
      "cell_type": "code",
      "source": [
        "# Download GPT2 Model\n",
        "gpt2.download_gpt2()"
      ],
      "metadata": {
        "colab": {
          "base_uri": "https://localhost:8080/"
        },
        "id": "FFrZKMnQU5B7",
        "outputId": "1f562546-d004-45cb-decc-96f61ec7138f"
      },
      "execution_count": null,
      "outputs": [
        {
          "output_type": "stream",
          "name": "stderr",
          "text": [
            "Fetching checkpoint: 1.05Mit [00:00, 517Mit/s]                                                      \n",
            "Fetching encoder.json: 1.05Mit [00:00, 1.06Mit/s]\n",
            "Fetching hparams.json: 1.05Mit [00:00, 576Mit/s]                                                    \n",
            "Fetching model.ckpt.data-00000-of-00001: 498Mit [00:36, 13.7Mit/s]\n",
            "Fetching model.ckpt.index: 1.05Mit [00:00, 278Mit/s]                                                \n",
            "Fetching model.ckpt.meta: 1.05Mit [00:00, 1.40Mit/s]\n",
            "Fetching vocab.bpe: 1.05Mit [00:00, 1.41Mit/s]\n"
          ]
        }
      ]
    },
    {
      "cell_type": "code",
      "execution_count": null,
      "metadata": {
        "colab": {
          "base_uri": "https://localhost:8080/"
        },
        "id": "rF1NYglunDdM",
        "outputId": "2e6b5978-e2ef-4fa4-d7ef-d73c8a5b06c7"
      },
      "outputs": [
        {
          "output_type": "stream",
          "name": "stdout",
          "text": [
            "/content/drive/MyDrive/Spring2023/10615\n",
            "Loading checkpoint models/124M/model.ckpt\n",
            "Loading dataset...\n"
          ]
        },
        {
          "output_type": "stream",
          "name": "stderr",
          "text": [
            "100%|██████████| 1/1 [00:01<00:00,  1.80s/it]\n"
          ]
        },
        {
          "output_type": "stream",
          "name": "stdout",
          "text": [
            "dataset has 266912 tokens\n",
            "Training...\n",
            "[100 | 230.96] loss=2.86 avg=2.86\n",
            "[200 | 457.02] loss=2.42 avg=2.64\n",
            "======== SAMPLE 1 ========\n",
            " Do I need a cell?\n",
            "Yeah. So, look, you could pick up a cell now if you want, by the way, but I don't think you need one. I'm just curious.\n",
            "You've just written about the difficulty of replicating a famous process. Do you want to share your work? Also, please describe something that's been like a whole life, except now you're more familiar with the original.\n",
            "A whole lot less familiar. Yeah.\n",
            "I mean, there's this incredible passage in Book 2 about the growth of a bird, a big tree. And then the tree is taken from it and the trunk is pulled out onto the ground. It's like a basket of leaves and branches like from something you'd see in a movie. And the trunk isn't anything like anything you'd see in a movie, really. Because the original tree trunk does not contain very much nutrients and so you grow it like a child tree. And and so the thing about a famous tree goes back thousands of years.\n",
            "We are talking about the beginnings of agriculture about 4,000 years ago and it seems to have been quite successful. So, you know, it turns out that most of modern human culture consists of essentially the product of this particular kind of culture, but agriculture still seems to be a viable way of life.\n",
            "So I could say no matter how successful agriculture is, there's a certain amount of money being made off it. And there would be plenty of people who couldn't make that much if they just ate fresh, viable food.\n",
            "You know, there are lots of people who have a lot of children just because that's the way the human story works out, whether that's because they lived in the free world or whether there are the farms that were better than their own. I think that's a reasonable argument to make. And now that we're talking about food, where do we go in terms of consumption? There's that.\n",
            "Another problem, I guess, is it's not really obvious what the right level of knowledge is for a given situation, the way to accomplish that. It's not easy. You know, if you can be a doctor, a lawyer, have all these things, you probably can't be a writer.\n",
            "I mean, it's true. That's not a problem, right? It's you get the idea. But then it turns out that most writers just don't have enough power to articulate the kind of implications of their ideas. And a lot of their ideas are very much the product of their environment and their experience. So they have to deal with potentially very dangerous people or with people they don't like. There is very little kind of knowledge that can be shared without potentially losing the possibility of really inspiring a different kind of conversation.\n",
            "Do you think that our current food system is such a terrible example of that? We should definitely be looking at the new paradigm shift that's being thought about to help address that problem. Right.\n",
            "We should look at the scientific revolution coming out of the paleobiologist to the food technologist and the food economist.\n",
            "Those are, of course, not the same people who are currently working on the clean energy revolution. Those people should be looking at those revolutionaries.\n",
            "Richard Dawkins argues that modern agriculture is essentially the same as it was in the late 19th century, and that, you know, it's going to take a while to wipe out all the bad stuff. This sort of cultural shift that feeds into the modern science revolution, which is what I'm trying to tell this seminar from coming up on stage, I would also like you to think of yourself as a big fan of the Enlightenment, of thinkers like Thomas Paine, of Marx and Engels, who thought that it was in the nature of things to be produced by force and by oppression and by plunder.\n",
            "And that is my most profound contribution to scholarship. That is the Enlightenment. That is the Enlightenment that we have today.\n",
            "I think there was a lot of misunderstanding about that. I think there was a lot of misunderstanding about why we have food. It was a lot of misunderstanding about agriculture. So, you know, a lot of the problems that we've just encountered, I think, were brought about by the Enlightenment. But then we also didn't realize we were still a species and we needed to feed and protect and use resources.\n",
            "One unintended consequence of all this misunderstanding is the rise of a new kind of farming, thanks to genetically modified corn and soybeans. The new crop, which isn't based on industrial agriculture. Instead, it's based instead on genetically engineered animal feed, genetically engineered grasses. And so on.\n",
            "The idea of breeding modern agriculture to feed and protect and use the new technology is an obvious one. But I also suspect that it's also one unintended consequence of the technological change.\n",
            "The invention of the horse power, of the airplane, of the car, of the telephone is all part of a much broader and larger evolution that\n",
            "\n",
            "[300 | 695.23] loss=1.82 avg=2.36\n",
            "Saving checkpoint/run-3-1000/model-300\n",
            "[400 | 924.56] loss=1.33 avg=2.10\n",
            "======== SAMPLE 1 ========\n",
            " was actually more fun to talk about. It had become kind of a coronation of capitalism and of course the entire entertainment industry in America was based in this industry, the big screen, the everything and the film industry was based in that. It had become just another part of the household name.\n",
            "So we began to talk about ways to encourage more of the kind of less interesting and more fulfilling parts of life. I'm guessing the more interesting you found the more you liked, which has always been your strategy. Going in was interesting. Going out was more fun. We talked about different approaches, ranging from reading to collaborating. And and the secret to happiness lies in these different people and places, you can thrive both in business life and in relationships.\n",
            "We all had those different paths and we all had these different upsides. And it just wasn't like we all had the same set of skills or goals. The happy people in me were always saying as a business person, we just don't know how to get our act together. And so having these incredibly interesting, incredibly fulfilling lives came along with them.\n",
            "So having those fresh start stories comes along with it when things get interesting and different, interesting paths. And the happy people in me were saying if you want to succeed, you don't have to reinvent the wheel. You don't have to turn off and live it. You don't have to create new wealth. You don't have to turn on the TV and discover more people you're talking to are doing it richer and more inspiring than you already are. Right?\n",
            "So having those fresh starts and bringing interesting new experiences with me has always been part of who we are. Now we're just starting to get lucky and start from scratch. Coming up next time on Freakonomics Radio, the data for the January break is as follows. As always, thanks for listening.\n",
            "Until then, take care of yourself.\n",
            "And if you can, someone else to Freakonomics Radio is produced by Stitcher and Redbud Radio.\n",
            "We can be reached at Radio at Freakonomics Dotcom.\n",
            "This episode was produced by Brant Katz.\n",
            "Freakonomics Radio, sponsored by Capital One, When you need your bank, Capital One is right in the palm of your hand and the Capital One dashboard is CRV ready. Sure, you can get your money there, too, so tap the button on your desktop to go digital and dial a dollar instantly with a free spokesman dotcom, thanks.\n",
            "So wherever you are, wherever demand is, there's always Capital One.\n",
            "So get credit cards free with Capital One today and go Freakonomics.\n",
            "When you're ready, call 1-800-273-Hitchhikers to get started online any time. The Capital One mobile app also supports Tapatio, like never miss a second podcast free with the purchase of a subscription to Freakonomics Radio.\n",
            "Thanks to everyone who saved the March Break this year. We have another one this week, this time a very special one for you the people who said, I just don't know how I can live without this podcast. Yes, I can live without it. I will tell you how grateful I am to have you, fellow listeners.\n",
            "Tonight I'm talking with Caitlin Doughty about her book, Blank Slate, which is still available on all podcast apps, even Slate. She is speaking with one of the most interesting new people to happen in recent memory, a 22 years old college student named Ashkan Soltani.\n",
            "Soltani grew up just across the street from me, and even though I didn't know him very well, we became best friends and he was my best friend.\n",
            "He was my math adviser and one of my best friends. I was trying to figure out what was going on with his mom and I thought maybe we should go see mom and tell her we were both done here.\n",
            "I was so excited and so eager to come to this amazing place and meet somebody and learn how to fix imperfect relationships and make your life more fun and safer. I was so excited when the show happened to be running on Kosh Kho, the new podcast from the amazing Katie Milkman. It's a weekly newsletter that gives people just a couple of days to introduce themselves and give some guidance in finding a job online, online scheduling, scheduling a new job.\n",
            "Here's the headline headline from the report, just for fun, the FBI is reportedly looking at your financial transactions when you were just 21. It sounds like you received your F-card. This certainly sounds like you're a destination country, but if only all the money were to be made here, all the trouble was already already beginning to come to America.\n",
            "So how about this stranger visa? Is the idea that the financial transactions are already taking place so that we can just let the laws constrict to what's happening here in the first place? That is the argument put forth by President Trump earlier this year, which is,\n",
            "\n",
            "[500 | 1161.72] loss=0.60 avg=1.80\n",
            "[600 | 1386.97] loss=0.44 avg=1.56\n",
            "Saving checkpoint/run-3-1000/model-600\n"
          ]
        },
        {
          "output_type": "stream",
          "name": "stderr",
          "text": [
            "WARNING:tensorflow:From /usr/local/lib/python3.9/dist-packages/tensorflow/python/training/saver.py:1067: remove_checkpoint (from tensorflow.python.checkpoint.checkpoint_management) is deprecated and will be removed in a future version.\n",
            "Instructions for updating:\n",
            "Use standard file APIs to delete files with this prefix.\n"
          ]
        },
        {
          "output_type": "stream",
          "name": "stdout",
          "text": [
            "======== SAMPLE 1 ========\n",
            " but a little over two hundred and seventy thousand dollars a year.\n",
            "Some of these firms are based in Massachusetts, others are based in California. The total tax burden in the U.S. is higher than anywhere else. But the reason that Massachusetts is so high is that Massachusetts is an incredibly regressive state, and that redistributes wealth incredibly quickly. How regressive is it to the extent that you've got a company that makes a lot of money in the state and then hundreds or thousands of others start producing hundreds of thousands of dollars in the next place?\n",
            "Now, to figure it out, we had to do a much wider investigation.\n",
            "We went back hundreds of cases where the actual tax code in that state is regressive even more than the one we're describing here. And tax advocates would say that's precisely the problem here. So we're saying, you know, have a lot of kids. Have lots of kids. And then you write your own rate of taxation based on that data.\n",
            "Here's another side effect of that. We got so many estimates of the prevalence of regressive behaviors, including lots of data. We went even further, estimating thousands of cases in multiple years where the tax code in that state actually was substantially or even more regressive than the description in our data, practically overnight.\n",
            "What would you say is the difference between what everyone is saying and reality?\n",
            "We can try to isolate a lot of the empirical aspects so we don't have to draw broad, inaccurate conclusions. But the thing that I find really interesting about the sky dropping from Seattle is that I think people are really expecting it to be exactly this way. And actually, it's not. We've been hearing it all the time. We even met with the devil.\n",
            "The economist Emily Osterholm has been studying regressive states in the real world. One estimate that came out a couple of years ago was six to 12 percentage points, about halfway there.\n",
            "But that estimate didn't include what's called inter state friction, the social process that's been going on between people of different social strata and their governments. That's the idea that any time a set of circumstances alters tax policies or taxation practices, any part of society can react with measures at odds with it. So it's called social capital.\n",
            "This includes just that sort of private sector activity that's unusual from other sectors in that it doesn't go directly to tax policy. But social capital.\n",
            "That's also what economists call bona fide social capital.\n",
            "So the UK stuff is a common example. The main thing is a certain decline in common law for almost 150 years. And then we figured out a really fantastic economist, not a PhD student, that's in law or health policy, that's in the insurance industry. And he was right. We were right in the theory. Overall, the trouble was that it was a really large and complicated social capital problem.\n",
            "How did someone like Emily Osterholm come to that understanding?\n",
            "One thing I'd like to think that you do have any insight into her thinking into why so much effort is being put into trying to understand and scaling up social capital? I can't think of any systematic explanation that could help the U.S. in trying to do that.\n",
            "Well, certainly there is some psychology that involves considering and putting some effort into actually rooting out what's holding people back. And that's why I lead a program at Georgetown called The New Politics Track. And this is my show for today.\n",
            "Historically, when I was doing graduate study at Dartmouth, I was thought of more of a business school professor than I was a professor. So I had to turn my attention to social capital in business. And one of the things I tried to do at Dartmouth was to recruit as many people as I could in the system so that when a government takes a firm and some of those people get promoted, they're not going to be able to aretein themselves a more powerful voice for the whole society.\n",
            "So my name is Kevin James. James, like many business men I early in my career had to convince my adviser that this was the strategy that worked, and that the whole business school system could do the same thing. And it worked.\n",
            "In 1999, three years after I started, I got my Ph.D. It had foundations and foundations and foundations. You see, we were looking at one world government at the time, and that had three world governments. So we looked at the next world government with three world governments. And three people had recommended this.\n",
            "And one of them, clearly the adviser, said, no, it won't be easy. Two world governments, one that of the United States, the other two had to be arranged without American help. Three people said, what do we do? The first thing is to create a completely different set of constraints on how the U.S. would do business.\n",
            "The thing that seemed obvious to me was how viable are traditional commercial opportunities in the first\n",
            "\n",
            "[700 | 1627.72] loss=0.33 avg=1.38\n",
            "[800 | 1853.11] loss=0.14 avg=1.22\n",
            "======== SAMPLE 1 ========\n",
            "'t have a big enough bank account to pay bills for a while. So we had a consultant come in and actually do the plumbing and we had over the course of the year has actually paid off its mortgage.\n",
            "So we're not sitting around and saying, OK, we have to get the kids out of the house. We have to get the kids to come back. We have to get the kids to put the bills on the bills of the family.\n",
            "We've written about this in the past. But this felt like a fresh start.\n",
            "This was the first time and only the second time that we had been invited to do something similar in our own home. In fact, we were invited. And why did you decide to do it?\n",
            "I thought it was such a honor and I think such a waste of time. You know, I wouldn't have been able to make this up. You know, we just came from New York, not Long Island, not Philadelphia. So we spent a great deal of time looking for ways to adapt to this place, and we found great culture. And when you think about new urban projects, how can New Yorkers be perfect partners?\n",
            "We thought it would be so easy to do anything, share the process, but we shared the learning curve.\n",
            "But somehow, even as a child, I still felt like I belonged there. There was this little desk in the corner of the room where I'd read Stephen Dubner's books that read, among other things, Like Scientific Why We're Worried and What to Do About It.\n",
            "And the more I learned about the meetings, the less I understood what motivated me every day to write these journals. I learned that I was not a leader. I was a problem. I was a follower. And that's the way I learned to control my outrage on any topic, not the way I taught my students.\n",
            "I learned to look at the problem from a different perspective than I ever had before. What are we thinking when we look at an issue that often happens without our knowledge? I came to a realization that that was the problem.\n",
            "What I realized was that the more I looked into the issues that Kehoe was raising, the more I was getting stung by the now infamous retraction, which was issued after he published the article, in which he makes the claim that Warmakers were liable for the climate crisis.\n",
            "Yeah, but I realized afterwards that I'd gotten this far largely by the media, you know, with these ridiculous claims about climate change, nobody knew that, but I just had never really gone in and looked at the data. And frankly, mankind has done a marvelous job in capturing the full impact of what's happening.\n",
            "But there are some areas where you actually had to really prove the pudding is true.\n",
            "The pudding was the Goddard Institute for Space Studies and what was needed to have a serious contribution from the black market market use of a known carcinogen.\n",
            "And there was always the threat of blindness, which is extremely rare in black market emissions, because vision fails. So you needed either a UVA expunged from the eyes or surgery to remove the eye.\n",
            "As of February 1st, 2019, more than half of all black market emissions from the U.S. originate in the U.S., up from roughly 50 percent five years ago. Again, it's easy to say we're not thinking about solutions in our country, but it's also very likely that our infrastructure and political structures were designed in ills the world over. If you look at the most recent pandemic in China, for instance, you will see that nearly 90 percent of all black market Chinese emissions were due to climate change, driven by something called the yin yang industry, which is shown to be particularly deadly.\n",
            "You know, in the 1990s, China was the world's biggest importer of silages. So we are shipping containers full of this stuff. We are importing curtains, we are rendering entire cities uninhabitable, and then, you know, demolishing them. So there's all this stuff going on. It's not keeping us from just burning up. It's keeping us from burning up.\n",
            "If you think about it, if China had just exported all of their furniture, curtains and TV sets to the rest of the world, they wouldn't have had to pay any attention to black market smelters. And they wouldn't have had to deal with anything but healthy long term.\n",
            "So what has happened in America lately that is unfortunate but not inevitable? Let's start with the most obvious interruption in black market energy demand.\n",
            "Why is it that prices for solar and wind panels are falling so evenly? The Sunbelt states are getting worse for solar panels, says solar panel analysts saying prices for panels have fallen even further. Steve Levitt, your representative in the Congress, says there is reason to be hopeful.\n",
            "Here's one problem. President Trump and senior Democrats abandoned their promises to make America\n",
            "\n",
            "[900 | 2089.63] loss=0.12 avg=1.09\n",
            "Saving checkpoint/run-3-1000/model-900\n",
            "[1000 | 2318.05] loss=0.14 avg=0.99\n",
            "Saving checkpoint/run-3-1000/model-1000\n"
          ]
        }
      ],
      "source": [
        "sess = gpt2.start_tf_sess()\n",
        "DATASET_PATH = \"/content/drive/MyDrive/Spring2023/10615/dataset_freakonomics.txt\"\n",
        "gpt2.finetune(sess,\n",
        "              dataset=DATASET_PATH,\n",
        "              model_name=config[\"model\"],\n",
        "              steps = config[\"steps\"],\n",
        "              restore_from=\"fresh\",\n",
        "              run_name=config[\"run_name\"],\n",
        "              print_every=config[\"print_every\"],\n",
        "              sample_every=config[\"sample_every\"],\n",
        "              save_every=config[\"save_every\"]\n",
        "              )"
      ]
    },
    {
      "cell_type": "code",
      "source": [
        "# # Uncomment these lines to load a pretrained checkpoint\n",
        "# sess = gpt2.start_tf_sess()\n",
        "# gpt2.load_gpt2(sess, run_name = config[\"run_name\"])\n",
        "\n",
        "# Generate to a filepath\n",
        "OUTPATH = \"/content/drive/MyDrive/Spring2023/10615/example_1000_3.txt\"\n",
        "gpt2.generate_to_file(sess, \n",
        "                      destination_path = OUTPATH,\n",
        "                      prefix=\"<|startoftext|>\", # Can choose to update this to give a prompt to start generating from\n",
        "                      truncate=\"<|endoftext|>\",\n",
        "                      run_name = config[\"run_name\"],\n",
        "                      include_prefix = False)"
      ],
      "metadata": {
        "id": "ZJr4s8zdfPCY"
      },
      "execution_count": null,
      "outputs": []
    }
  ],
  "metadata": {
    "accelerator": "GPU",
    "colab": {
      "provenance": [],
      "include_colab_link": true
    },
    "gpuClass": "standard",
    "kernelspec": {
      "display_name": "Python 3",
      "name": "python3"
    },
    "language_info": {
      "name": "python"
    }
  },
  "nbformat": 4,
  "nbformat_minor": 0
}